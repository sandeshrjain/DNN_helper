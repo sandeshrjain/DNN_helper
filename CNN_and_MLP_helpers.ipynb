{
  "nbformat": 4,
  "nbformat_minor": 0,
  "metadata": {
    "colab": {
      "name": "CNN_and_MLP_helpers",
      "provenance": [],
      "collapsed_sections": []
    },
    "kernelspec": {
      "display_name": "Python 3",
      "language": "python",
      "name": "python3"
    },
    "language_info": {
      "codemirror_mode": {
        "name": "ipython",
        "version": 3
      },
      "file_extension": ".py",
      "mimetype": "text/x-python",
      "name": "python",
      "nbconvert_exporter": "python",
      "pygments_lexer": "ipython3",
      "version": "3.7.4"
    },
    "accelerator": "GPU"
  },
  "cells": [
    {
      "cell_type": "markdown",
      "metadata": {
        "id": "VdGag7Q98uuA"
      },
      "source": [
        "# Dense MLPs & CNNs using PyTorch"
      ]
    },
    {
      "cell_type": "code",
      "metadata": {
        "colab": {
          "base_uri": "https://localhost:8080/"
        },
        "id": "fWT6gOe1J2zB",
        "outputId": "ddf61c1f-2ace-46ca-bdd3-2b745475f83e"
      },
      "source": [
        "! pip install scipy==1.1.0"
      ],
      "execution_count": null,
      "outputs": [
        {
          "output_type": "stream",
          "text": [
            "Collecting scipy==1.1.0\n",
            "\u001b[?25l  Downloading https://files.pythonhosted.org/packages/40/de/0c22c6754370ba6b1fa8e53bd6e514d4a41a181125d405a501c215cbdbd6/scipy-1.1.0-cp37-cp37m-manylinux1_x86_64.whl (31.2MB)\n",
            "\u001b[K     |████████████████████████████████| 31.2MB 103kB/s \n",
            "\u001b[?25hRequirement already satisfied: numpy>=1.8.2 in /usr/local/lib/python3.7/dist-packages (from scipy==1.1.0) (1.19.5)\n",
            "\u001b[31mERROR: plotnine 0.6.0 has requirement scipy>=1.2.0, but you'll have scipy 1.1.0 which is incompatible.\u001b[0m\n",
            "\u001b[31mERROR: albumentations 0.1.12 has requirement imgaug<0.2.7,>=0.2.5, but you'll have imgaug 0.2.9 which is incompatible.\u001b[0m\n",
            "Installing collected packages: scipy\n",
            "  Found existing installation: scipy 1.4.1\n",
            "    Uninstalling scipy-1.4.1:\n",
            "      Successfully uninstalled scipy-1.4.1\n",
            "Successfully installed scipy-1.1.0\n"
          ],
          "name": "stdout"
        }
      ]
    },
    {
      "cell_type": "markdown",
      "metadata": {
        "id": "_Pja5zjFXwTp"
      },
      "source": [
        "Mount your google drive in google colab"
      ]
    },
    {
      "cell_type": "code",
      "metadata": {
        "colab": {
          "base_uri": "https://localhost:8080/"
        },
        "id": "mdVPU9EUXvij",
        "outputId": "afa4e059-fb51-4b6f-8850-db5fb007cfae"
      },
      "source": [
        "from google.colab import drive\n",
        "drive.mount('/content/gdrive/')"
      ],
      "execution_count": null,
      "outputs": [
        {
          "output_type": "stream",
          "text": [
            "Drive already mounted at /content/gdrive/; to attempt to forcibly remount, call drive.mount(\"/content/gdrive/\", force_remount=True).\n"
          ],
          "name": "stdout"
        }
      ]
    },
    {
      "cell_type": "markdown",
      "metadata": {
        "id": "vg6RLG8AX73v"
      },
      "source": [
        "Append the directory to your python path using sys.\n",
        "\n",
        "Please do modify the `customized_path_to_your_homework` to where you uploaded your homework in the Google Drive"
      ]
    },
    {
      "cell_type": "code",
      "metadata": {
        "id": "HwSblWSIX-qM"
      },
      "source": [
        "import sys\n",
        "import os\n",
        "prefix = '/content/gdrive/'\n",
        "customized_path_to_your_homework = 'My Drive/CNN_helper'\n",
        "sys_path = os.path.join(prefix, customized_path_to_your_homework)\n",
        "sys.path.append(sys_path)"
      ],
      "execution_count": null,
      "outputs": []
    },
    {
      "cell_type": "code",
      "metadata": {
        "id": "80l5DvfCy1Fe"
      },
      "source": [
        "import torch\n",
        "import torch.nn as nn"
      ],
      "execution_count": null,
      "outputs": []
    },
    {
      "cell_type": "code",
      "metadata": {
        "colab": {
          "base_uri": "https://localhost:8080/"
        },
        "id": "7HCZMJy6y1Fn",
        "outputId": "695256ac-0a05-4e1a-cde0-5d9129ad1a2c"
      },
      "source": [
        "class TwoLayerNet(nn.Module):\n",
        "    def __init__(self, D_in, H, D_out):\n",
        "        super(TwoLayerNet, self).__init__()\n",
        "        self.linear1 = nn.Linear(D_in, H)\n",
        "        self.linear2 = nn.Linear(H, D_out)\n",
        "\n",
        "    def forward(self, x):\n",
        "        h_relu = self.linear1(x).clamp(min=0)\n",
        "        y_pred = self.linear2(h_relu)\n",
        "        return y_pred\n",
        "\n",
        "N, D_in, H, D_out = 64, 1000, 100, 10\n",
        "\n",
        "# Create random Tensors to hold inputs and outputs\n",
        "x = torch.randn(N, D_in)\n",
        "y = torch.randn(N, D_out)\n",
        "\n",
        "# Construct our model by instantiating the class defined above\n",
        "model = TwoLayerNet(D_in, H, D_out)\n",
        "criterion = nn.MSELoss(reduction='sum')\n",
        "optimizer = torch.optim.SGD(model.parameters(), lr=1e-4)\n",
        "\n",
        "for t in range(500):\n",
        "    # Forward pass: Compute predicted y by passing x to the model\n",
        "    y_pred = model(x)\n",
        "\n",
        "    # Compute and print loss\n",
        "    loss = criterion(y_pred, y)\n",
        "    if t % 100 == 99:\n",
        "        print(f'iteration {t}: {loss.item()}')\n",
        "\n",
        "    # Zero gradients, perform a backward pass, and update the weights.\n",
        "    optimizer.zero_grad()\n",
        "    loss.backward()\n",
        "    optimizer.step()"
      ],
      "execution_count": null,
      "outputs": [
        {
          "output_type": "stream",
          "text": [
            "iteration 99: 2.746034860610962\n",
            "iteration 199: 0.0502784289419651\n",
            "iteration 299: 0.0014080111868679523\n",
            "iteration 399: 4.809701567864977e-05\n",
            "iteration 499: 1.9016213173017604e-06\n"
          ],
          "name": "stdout"
        }
      ]
    },
    {
      "cell_type": "code",
      "metadata": {
        "colab": {
          "base_uri": "https://localhost:8080/",
          "height": 265
        },
        "id": "gW9GyhyRy1Fq",
        "outputId": "c8bc3ea1-e666-4258-8627-c448d5e13f7e"
      },
      "source": [
        "import numpy as np\n",
        "import matplotlib.pyplot as plt\n",
        "\n",
        "# Dataset \n",
        "\n",
        "current_path = prefix + customized_path_to_your_homework\n",
        "X_train = np.loadtxt(current_path + '/data/X1_train.csv', delimiter=',')\n",
        "X_test = np.loadtxt(current_path + '/data/X1_test.csv', delimiter=',')\n",
        "y_train = np.loadtxt(current_path + '/data/y1_train.csv', delimiter=',')\n",
        "y_test = np.loadtxt(current_path + '/data/y1_test.csv', delimiter=',')\n",
        "\n",
        "plt.scatter(X_train[:, 0], X_train[:, 1], c=y_train);"
      ],
      "execution_count": null,
      "outputs": [
        {
          "output_type": "display_data",
          "data": {
            "image/png": "[encoded data removed]",
            "text/plain": [
              "<Figure size 432x288 with 1 Axes>"
            ]
          },
          "metadata": {
            "tags": [],
            "needs_background": "light"
          }
        }
      ]
    },
    {
      "cell_type": "code",
      "metadata": {
        "id": "xwzdiveS1bad"
      },
      "source": [
        "from torch.utils.data import TensorDataset, DataLoader\n",
        "batch_size = 64 # mini-batch size\n",
        "num_workers = 2 # how many parallel workers are we gonna use for reading data\n",
        "shuffle = True # shuffle the dataset\n",
        "\n",
        "# Convert numpy array import torch tensor\n",
        "X_val = torch.FloatTensor(X_train[500:])\n",
        "X_train = torch.FloatTensor(X_train[:500])\n",
        "X_test = torch.FloatTensor(X_test)\n",
        "y_val = torch.LongTensor(y_train.reshape(-1, 1)[500:])\n",
        "y_train = torch.LongTensor(y_train.reshape(-1, 1)[:500])\n",
        "y_test = torch.LongTensor(y_test.reshape(-1, 1))\n",
        "\n",
        "train_dataset = TensorDataset(X_train, y_train)\n",
        "train_loader = DataLoader(train_dataset, batch_size=batch_size, \n",
        "                          num_workers=num_workers, shuffle=shuffle)"
      ],
      "execution_count": null,
      "outputs": []
    },
    {
      "cell_type": "code",
      "metadata": {
        "id": "kSJeOnJXy1F2"
      },
      "source": [
        "class SimpleNN(nn.Module):\n",
        "    \n",
        "    def __init__(self, D_in, H, D_out):\n",
        "        super(SimpleNN, self).__init__()\n",
        "        self.linear1 = nn.Linear(D_in, H)\n",
        "        self.linear2 = nn.Linear(H, H)\n",
        "        self.linear3 = nn.Linear(H, D_out)\n",
        "\n",
        "        self.sigmoid = nn.Sigmoid()\n",
        "        self.ReLU = nn.ReLU()\n",
        "        pass\n",
        "\n",
        "    def forward(self, x):\n",
        "\n",
        "        h_1 =  self.linear1(x) \n",
        "        h_2 = self.ReLU(h_1)\n",
        "        h_3 = self.linear2(h_2)\n",
        "        h_4 = self.ReLU(h_3)\n",
        "        h_5 = self.linear3(h_4)\n",
        "        y_pred = self.sigmoid(h_5)\n",
        "        return y_pred\n",
        "        pass\n"
      ],
      "execution_count": null,
      "outputs": []
    },
    {
      "cell_type": "code",
      "metadata": {
        "id": "hz2OOgcCy1F9"
      },
      "source": [
        "# helper function for computing accuracy\n",
        "def get_acc(pred, y):\n",
        "    pred = pred.float()\n",
        "    y = y.float()\n",
        "    return (y==pred).sum().float()/y.size(0)*100."
      ],
      "execution_count": null,
      "outputs": []
    },
    {
      "cell_type": "code",
      "metadata": {
        "id": "jafTWByTy1F5"
      },
      "source": [
        "def Solver(model, train_loader, optim, criterion, epoch=501, lr=1e-1, print_every=20):\n",
        "  '''\n",
        "  model: your designed model\n",
        "  train_loader: data loader for training data\n",
        "  optim: SGD optimizer\n",
        "  criterion: criterion for calculating loss, i.e. nn.BCELoss\n",
        "  epoch: number of training epochs, an epoch means looping through all the data in the datasets\n",
        "  lr: training learning rate\n",
        "  print_every: number of epochs to print out loss and accuracies\n",
        "  '''\n",
        "  for e in range(epoch):\n",
        "      loss_epoch = 0\n",
        "      for x, y in train_loader:\n",
        "        optim.zero_grad()\n",
        "        y_pred = model(x)\n",
        "        loss =  criterion(y_pred.double(), y.double() )\n",
        "        loss.backward()\n",
        "        optim.step()     \n",
        "        loss_epoch += loss.item() \n",
        "      if e % print_every == 0:\n",
        "          y_pred = (model(X_train) > 0.5)\n",
        "          train_acc = get_acc(y_pred, y_train)\n",
        "          y_val_pred = (model(X_val) > 0.5)\n",
        "          val_acc = get_acc(y_val_pred, y_val)  \n",
        "          print(f'Epcoh {e}: {loss_epoch}, Training accuracy: {train_acc}, Validation accuracy: {val_acc}')\n",
        "  return model"
      ],
      "execution_count": null,
      "outputs": []
    },
    {
      "cell_type": "code",
      "metadata": {
        "colab": {
          "base_uri": "https://localhost:8080/"
        },
        "id": "FzOS5PHpD0jX",
        "outputId": "d708150c-b1a7-4aa2-f4ff-a358195fc491"
      },
      "source": [
        "epoch=60\n",
        "lr=0.001\n",
        "\n",
        "D_in = np.shape(X_test)[1]\n",
        "H = 200\n",
        "D_out = np.shape(y_test)[1]\n",
        "criterion = nn.BCELoss()\n",
        "\n",
        "model = SimpleNN(D_in, H, D_out)\n",
        "optim = torch.optim.SGD(model.parameters(), lr=lr)\n",
        "\n",
        "\n",
        "# train model\n",
        "model = Solver(model, train_loader, optim, criterion, epoch=epoch, lr=lr, print_every=20)"
      ],
      "execution_count": null,
      "outputs": [
        {
          "output_type": "stream",
          "text": [
            "Epcoh 0: 5.671718732844082, Training accuracy: 46.599998474121094, Validation accuracy: 46.0\n",
            "Epcoh 20: 5.280022548234266, Training accuracy: 78.4000015258789, Validation accuracy: 77.5\n",
            "Epcoh 40: 4.964811611480893, Training accuracy: 85.0, Validation accuracy: 84.5\n"
          ],
          "name": "stdout"
        }
      ]
    },
    {
      "cell_type": "markdown",
      "metadata": {
        "id": "IPr3JM2Ey1GB"
      },
      "source": [
        "Evaluate your accuracy:"
      ]
    },
    {
      "cell_type": "code",
      "metadata": {
        "colab": {
          "base_uri": "https://localhost:8080/"
        },
        "id": "EfOU2wtuy1GC",
        "outputId": "e669570c-b643-480a-a628-7d6205d40692"
      },
      "source": [
        "y_pred = (model(X_train) > 0.5)\n",
        "train_acc = get_acc(y_pred, y_train)\n",
        "\n",
        "y_val_pred = (model(X_val) > 0.5)\n",
        "val_acc = get_acc(y_val_pred, y_val)  \n",
        "\n",
        "y_pred = (model(X_test) > 0.5)\n",
        "test_acc = get_acc(y_pred, y_test)\n",
        "print(f'Training accuracy: {train_acc}, Validation accuracy: {val_acc}, Testing accuracy: {test_acc}')"
      ],
      "execution_count": null,
      "outputs": [
        {
          "output_type": "stream",
          "text": [
            "Training accuracy: 83.4000015258789, Validation accuracy: 82.0, Testing accuracy: 84.0\n"
          ],
          "name": "stdout"
        }
      ]
    },
    {
      "cell_type": "markdown",
      "metadata": {
        "id": "iKENE4W6y1GE"
      },
      "source": [
        "# CIFAR10 with MLP"
      ]
    },
    {
      "cell_type": "code",
      "metadata": {
        "colab": {
          "base_uri": "https://localhost:8080/"
        },
        "id": "y-7GdjG5y1GG",
        "outputId": "f8c81855-53a6-4cc4-b3e9-7f78e947feb7"
      },
      "source": [
        "import torchvision\n",
        "import torchvision.transforms as transforms\n",
        "\n",
        "#transformations on the dataset to learn possible augmentations \n",
        "\n",
        "transform_train = transforms.Compose([\n",
        "    transforms.ToTensor(),\n",
        "    transforms.Normalize((0.4914, 0.4822, 0.4465), (0.2023, 0.1994, 0.2010)),\n",
        "])\n",
        "\n",
        "transform_test = transforms.Compose([\n",
        "    transforms.ToTensor(),\n",
        "    transforms.Normalize((0.4914, 0.4822, 0.4465), (0.2023, 0.1994, 0.2010)),\n",
        "])\n",
        "\n",
        "current_path = prefix + customized_path_to_your_homework\n",
        "trainset = torchvision.datasets.CIFAR10(root=current_path + '/data', train=True, download=True, transform=transform_train)\n",
        "testset = torchvision.datasets.CIFAR10(root=current_path + '/data', train=False, download=True, transform=transform_test)"
      ],
      "execution_count": null,
      "outputs": [
        {
          "output_type": "stream",
          "text": [
            "Files already downloaded and verified\n",
            "Files already downloaded and verified\n"
          ],
          "name": "stdout"
        }
      ]
    },
    {
      "cell_type": "code",
      "metadata": {
        "id": "PfTjhEVny1GM"
      },
      "source": [
        "class SimpleNN(nn.Module):\n",
        "    \n",
        "    def __init__(self, D_in, D_out):\n",
        "        super().__init__()\n",
        "\n",
        "        H = 500\n",
        "        self.linear1 = nn.Linear(D_in, H)\n",
        "        self.linear2 = nn.Linear(H, H)\n",
        "        self.linear3 = nn.Linear(H, D_out)\n",
        "\n",
        "        self.sigmoid = nn.Sigmoid()\n",
        "        self.ReLU = nn.ReLU()\n",
        "        \n",
        "\n",
        "        \n",
        "    def forward(self, x):\n",
        "\n",
        "        batch_size = x.size(0)\n",
        "        x = x.view(batch_size, -1) # reshape the data from (B, C, H, W) to (B, C*H*W)\n",
        "        h_1 =  self.linear1(x) \n",
        "        h_2 = self.ReLU(h_1)\n",
        "        h_3 = self.linear2(h_2)\n",
        "        h_4 = self.ReLU(h_3)\n",
        "        h_5 = self.linear3(h_4)\n",
        "        y_pred =  self.ReLU(h_5)\n",
        "        return y_pred\n"
      ],
      "execution_count": null,
      "outputs": []
    },
    {
      "cell_type": "code",
      "metadata": {
        "id": "mpCe6DLpy1GQ"
      },
      "source": [
        "epoch = 15\n",
        "lr = 1e-2\n",
        "n_input = 3072\n",
        "n_classes = 10\n",
        "train_loader = torch.utils.data.DataLoader(trainset, batch_size=64, shuffle=True, num_workers=2)\n",
        "test_loader = torch.utils.data.DataLoader(testset, batch_size=100, shuffle=False, num_workers=2)\n",
        "\n",
        "D_in = n_input\n",
        "H = 500\n",
        "D_out = 10\n",
        "criterion = nn.CrossEntropyLoss()\n",
        "\n",
        "model = SimpleNN(D_in, D_out)\n",
        "optim = torch.optim.SGD(model.parameters(), lr=lr)\n",
        "\n",
        "\n",
        "# train model\n",
        "for e in range(epoch):\n",
        "      for x, y in train_loader:\n",
        "        optim.zero_grad()\n",
        "        batch_size = x.size(0)\n",
        "\n",
        "        x = x.view(batch_size, -1) # reshape the data from (B, C, H, W) to (B, C*H*W)\n",
        "        y_pred = model(x)\n",
        "        loss =  criterion(y_pred , y)\n",
        "        loss.backward()\n",
        "        optim.step()     \n",
        "      print(e)\n",
        "\n"
      ],
      "execution_count": null,
      "outputs": []
    },
    {
      "cell_type": "code",
      "metadata": {
        "id": "7RKgYXUty1GT"
      },
      "source": [
        "def get_model_acc(model, loader):\n",
        "    ys = []\n",
        "    y_preds = []\n",
        "    for x, y in loader:\n",
        "        cuda = torch.device('cuda' if torch.cuda.is_available() else 'cpu')\n",
        "        model = model.cuda()\n",
        "        x = x.cuda()    \n",
        "        y=y.cuda()\n",
        "        ys.append(y)\n",
        "        # set the prediction to the one that has highest value\n",
        "        # Note that the the output size of model(x) is (B, 10)\n",
        "        y_preds.append(torch.argmax(model(x), dim=1))\n",
        "    y = torch.cat(ys, dim=0)\n",
        "    y_pred = torch.cat(y_preds, dim=0)\n",
        "    print((y == y_pred).sum())\n",
        "    return get_acc(y_pred, y)"
      ],
      "execution_count": null,
      "outputs": []
    },
    {
      "cell_type": "code",
      "metadata": {
        "colab": {
          "base_uri": "https://localhost:8080/"
        },
        "id": "SpVBawqry1GW",
        "outputId": "bae8936d-0942-47bf-c843-05483d046604"
      },
      "source": [
        "train_acc = get_model_acc(model, train_loader)\n",
        "test_acc = get_model_acc(model, test_loader)\n",
        "print(f'Training accuracy: {train_acc}, Testing accuracy: {test_acc}')"
      ],
      "execution_count": null,
      "outputs": [
        {
          "output_type": "stream",
          "text": [
            "tensor(33160, device='cuda:0')\n",
            "tensor(4938, device='cuda:0')\n",
            "Training accuracy: 66.31999969482422, Testing accuracy: 49.37999725341797\n"
          ],
          "name": "stdout"
        }
      ]
    },
    {
      "cell_type": "markdown",
      "metadata": {
        "id": "NpIoBdA5y1GZ"
      },
      "source": [
        "## CNN\n",
        "\n"
      ]
    },
    {
      "cell_type": "code",
      "metadata": {
        "id": "w1ayhXliy1Gb"
      },
      "source": [
        "import torch.nn.functional as F\n",
        "class CNNClassifier(nn.Module):\n",
        "    \n",
        "    def __init__(self, D_in, D_out, Conv_layers=1, out_channels=[], conv_kernel=5):\n",
        "        super(CNNClassifier, self).__init__()\n",
        "           \n",
        "        self.Conv_layers = Conv_layers\n",
        "        self.out_channels = out_channels\n",
        "        self.conv_kernel = conv_kernel\n",
        "        self.conv_set =[]\n",
        "        self.conv_set.append(nn.Conv2d(3, out_channels[0], 5))    \n",
        "        for c in range(Conv_layers-1):\n",
        "          self.conv_set.append(nn.Conv2d(out_channels[c], out_channels[c+1], conv_kernel))                                              #\n",
        "\n",
        "\n",
        "        #self.conv1_for_loop =  self.conv_set[0]\n",
        "        #self.conv2_for_loop =  self.conv_set[1]\n",
        "\n",
        "        self.conv1 = nn.Conv2d(3, out_channels[0], 5)\n",
        "        self.conv2 = nn.Conv2d(out_channels[0], out_channels[1], conv_kernel)\n",
        "        self.fcc1 = nn.Linear(out_channels[1]*5*5, 10)\n",
        "\n",
        "        self.sigmoid = nn.Sigmoid()\n",
        "        self.ReLU = nn.ReLU()\n",
        "        self.MaxPool2d = nn.MaxPool2d(2, stride=2)\n",
        "        \n",
        "        \n",
        "    def forward(self, x):      \n",
        "       '''           \n",
        "        next = self.conv_set[0](x)    # first layer always input\n",
        "        next = self.ReLU(next)\n",
        "        next =  self.MaxPool2d(next)\n",
        "\n",
        "        for c in range(self.Conv_layers - 1):   # next conv layers after the first, only dependent on past input, transfer functions and pooling\n",
        "          next = self.conv_set[c+1](next)\n",
        "          next = self.ReLU(next)\n",
        "          next =  self.MaxPool2d(next)\n",
        "        \n",
        "        next = next.reshape(-1, self.out_channels[len(self.out_channels)-1]*5*5) #reshape before entering final fcc\n",
        "        #print(np.shape(next))\n",
        "        # fcc\n",
        "        next = self.fcc1(next)\n",
        "        y_pred_for_loop =  self.sigmoid(next)\n",
        "        '''\n",
        "        \n",
        "\n",
        "        hc_1 = self.conv1(x)\n",
        "        hr_1 = self.ReLU(hc_1)\n",
        "        hm_1 =  self.MaxPool2d(hr_1)\n",
        "\n",
        "        hc_2 = self.conv2(hm_1)\n",
        "        hr_2 = self.ReLU(hc_2)\n",
        "        hm_2 = self.MaxPool2d(hr_2)\n",
        "\n",
        "        hm_2 = hm_2.reshape(-1, 16*5*5)\n",
        "        #print(np.shape(hm_2))\n",
        "        hlin_1 = self.fcc1(hm_2)\n",
        "        y_pred =  self.ReLU(hlin_1) \n",
        "        return y_pred \n"
      ],
      "execution_count": null,
      "outputs": []
    },
    {
      "cell_type": "code",
      "metadata": {
        "id": "1mZ3iGNzMn7r",
        "colab": {
          "base_uri": "https://localhost:8080/"
        },
        "outputId": "c71110f3-b62d-4a68-cfba-a04d1c4cf0c7"
      },
      "source": [
        "epoch = 15\n",
        "lr = 0.1\n",
        "n_input = 3072\n",
        "n_classes = 10\n",
        "batch_size = 64\n",
        "num_workers = num_workers\n",
        "\n",
        "train_loader = torch.utils.data.DataLoader(trainset, batch_size=64, shuffle=True, num_workers=2)\n",
        "test_loader = torch.utils.data.DataLoader(testset, batch_size=100, shuffle=False, num_workers=2)\n",
        "\n",
        "D_in = n_input\n",
        "D_out = n_classes\n",
        "criterion = nn.CrossEntropyLoss()\n",
        "\n",
        "model = CNNClassifier(D_in, D_out, Conv_layers=2, out_channels=[8,16])\n",
        "print(model)\n",
        "\n",
        "optim = torch.optim.SGD(model.parameters(), lr=lr)\n",
        "\n",
        "\n",
        "# train model\n",
        "for e in range(epoch):\n",
        "      print(e)\n",
        "\n",
        "      for x, y in train_loader:\n",
        "        optim.zero_grad()\n",
        "        batch_size = x.size(0)\n",
        "        cuda = torch.device('cuda' if torch.cuda.is_available() else 'cpu')\n",
        "        model = model.cuda()\n",
        "        x = x.cuda()\n",
        "        #print(x.size())\n",
        "        #x = x.view(batch_size, -1) # reshape the data from (B, C, H, W) to (B, C*H*W)\n",
        "        y_pred = model(x)\n",
        "        y = y.cuda()\n",
        "        loss =  criterion(y_pred , y)\n",
        "        #print(loss)\n",
        "        #loss.requres_grad = True\n",
        "        loss.backward()\n",
        "        optim.step()   "
      ],
      "execution_count": null,
      "outputs": [
        {
          "output_type": "stream",
          "text": [
            "CNNClassifier(\n",
            "  (conv1): Conv2d(3, 8, kernel_size=(5, 5), stride=(1, 1))\n",
            "  (conv2): Conv2d(8, 16, kernel_size=(5, 5), stride=(1, 1))\n",
            "  (fcc1): Linear(in_features=400, out_features=10, bias=True)\n",
            "  (sigmoid): Sigmoid()\n",
            "  (ReLU): ReLU()\n",
            "  (MaxPool2d): MaxPool2d(kernel_size=2, stride=2, padding=0, dilation=1, ceil_mode=False)\n",
            ")\n",
            "0\n",
            "1\n",
            "2\n",
            "3\n",
            "4\n",
            "5\n",
            "6\n",
            "7\n",
            "8\n",
            "9\n",
            "10\n",
            "11\n",
            "12\n",
            "13\n",
            "14\n"
          ],
          "name": "stdout"
        }
      ]
    },
    {
      "cell_type": "code",
      "metadata": {
        "id": "bZQWRVYZMn7u",
        "colab": {
          "base_uri": "https://localhost:8080/"
        },
        "outputId": "f527b162-20ba-4ee6-d666-e4f640cfa3ed"
      },
      "source": [
        "\n",
        "model.eval()\n",
        "train_acc = get_model_acc(model, train_loader)\n",
        "test_acc = get_model_acc(model, test_loader)\n",
        "print(f'Training accuracy: {train_acc}, Testing accuracy: {test_acc}')"
      ],
      "execution_count": null,
      "outputs": [
        {
          "output_type": "stream",
          "text": [
            "tensor(28156, device='cuda:0')\n",
            "tensor(5376, device='cuda:0')\n",
            "Training accuracy: 56.3120002746582, Testing accuracy: 53.7599983215332\n"
          ],
          "name": "stdout"
        }
      ]
    },
    {
      "cell_type": "markdown",
      "metadata": {
        "id": "I3rJE8nty1Gr"
      },
      "source": [
        "If we visualize the output block of each conv layer, we see that after convolution and maxpooling the length x bredth is decreasing and the depth (channels) is increasing.\n",
        "\n",
        "The chosen design has 2 Conv2d layers with channel configuration as (3 (input rgb channels) , 8) and (8, 16) respectively. The Linear layer is Fully connected and has config (16x5x5, 10). Ther kernel size for Conv2d layers is 5x5 for both. I have 2 maxpooling layers (size: 2 and stride: 2), each one after the ReLU transformation on Conv2d layers to reduce the number of parameters. \n",
        "\n",
        "The learning rate is set to 0.1 and # of epochs is 15. The input dimension for FCC layer is calculated with the final channel size, kernel size, stride of conv layers and maxpooling layers. By default the stride is set to 1, the input (single) image is 3x32x32 and convolution with 5x5 kernel gives 8x28x28 output which is passed through ReLU (doesn't affect dims) and then maxpooled with 2x2 kernel and stride = 2, hence the output is further reduced to 8x14x14. Repeating this again with the next conv layer we have 16x10x10 output and then maxpooling -> 16x5x5 output. "
      ]
    },
    {
      "cell_type": "code",
      "metadata": {
        "id": "j6x0bN1BMn7y",
        "colab": {
          "base_uri": "https://localhost:8080/"
        },
        "outputId": "c65e2410-236a-465e-d12d-7e834626efee"
      },
      "source": [
        "\n",
        "from torch.nn import Linear, ReLU, CrossEntropyLoss, Sequential, Conv2d, MaxPool2d, Module, Softmax, BatchNorm2d, Dropout\n",
        "from time import time\n",
        "class Multi_Net(nn.Module):   \n",
        "    def __init__(self, Conv_layers=1, out_channels=[]):\n",
        "        super(Multi_Net, self).__init__()\n",
        "\n",
        "\n",
        "        self.Conv_layers = Conv_layers\n",
        "        self.out_channels = out_channels\n",
        "\n",
        "\n",
        "        if self.Conv_layers == 1:\n",
        "\n",
        "          self.cnn_layers = Sequential(\n",
        "            Conv2d(3, 6, kernel_size=5),\n",
        "            BatchNorm2d(6),\n",
        "            ReLU(inplace=True),\n",
        "            MaxPool2d(kernel_size=4, stride=4))\n",
        "          \n",
        "          if self.Conv_layers == 1:\n",
        "            self.linear_layers = Sequential(\n",
        "              Linear(6 * 7 * 7, 10)) \n",
        "\n",
        "\n",
        "        if self.Conv_layers == 2:\n",
        "\n",
        "          self.cnn_layers = Sequential(\n",
        "            Conv2d(3, 6, kernel_size=3),\n",
        "            BatchNorm2d(6),\n",
        "            ReLU(inplace=True),\n",
        "            MaxPool2d(kernel_size=2, stride=2),\n",
        "            Conv2d(6, 8, kernel_size=4),\n",
        "            BatchNorm2d(8),\n",
        "            ReLU(inplace=True),\n",
        "            MaxPool2d(kernel_size=2, stride=2))  \n",
        "          if self.Conv_layers == 2:\n",
        "            self.linear_layers = Sequential(\n",
        "              Linear(8 * 6 * 6, 10))    \n",
        "        \n",
        "        if self.Conv_layers == 3:\n",
        "\n",
        "          self.cnn_layers = Sequential(\n",
        "            Conv2d(3, 6, kernel_size=3),\n",
        "            BatchNorm2d(6),\n",
        "            ReLU(inplace=True),\n",
        "            MaxPool2d(kernel_size=2, stride=2),\n",
        "            Conv2d(6, 8, kernel_size=4),\n",
        "            BatchNorm2d(8),\n",
        "            ReLU(inplace=True),\n",
        "            MaxPool2d(kernel_size=2, stride=1),\n",
        "            Conv2d(8, 10, kernel_size=4),\n",
        "            BatchNorm2d(10),\n",
        "            ReLU(inplace=True),\n",
        "            MaxPool2d(kernel_size=2, stride=1)) \n",
        "          if self.Conv_layers == 3:\n",
        "            self.linear_layers = Sequential(\n",
        "              Linear(10 * 7 * 7, 10)) \n",
        "          \n",
        "\n",
        "        if self.Conv_layers == 4:\n",
        "\n",
        "          self.cnn_layers = Sequential(\n",
        "            Conv2d(3, 6, kernel_size=3),\n",
        "            BatchNorm2d(6),\n",
        "            ReLU(inplace=True),\n",
        "            MaxPool2d(kernel_size=2, stride=2),\n",
        "            Conv2d(6, 8, kernel_size=4),\n",
        "            BatchNorm2d(8),\n",
        "            ReLU(inplace=True),\n",
        "            \n",
        "            Conv2d(8, 10, kernel_size=3),\n",
        "            BatchNorm2d(10),\n",
        "            ReLU(inplace=True),\n",
        "            MaxPool2d(kernel_size=2, stride=1),\n",
        "            Conv2d(10, 12, kernel_size=3),\n",
        "            BatchNorm2d(12),\n",
        "            ReLU(inplace=True)) \n",
        "          self.linear_layers = Sequential(\n",
        "            Linear(12 * 7 * 7, 10))\n",
        "        \n",
        "\n",
        "    # Defining the forward pass    \n",
        "    def forward(self, x):\n",
        "        cuda = torch.device('cuda' if torch.cuda.is_available() else 'cpu')\n",
        "        x = x.cuda()\n",
        "        x = self.cnn_layers(x)\n",
        "        x = x.view(x.size(0), -1)\n",
        "        x = self.linear_layers(x)\n",
        "        return x\n",
        "\n",
        "\n",
        "criterion = nn.CrossEntropyLoss()\n",
        "def trainer(train_loader, criterion, model, epoch, optim):\n",
        "  # train model\n",
        "  \n",
        "  for e in range(epoch):\n",
        "      for x, y in train_loader:\n",
        "        if optim == 'SGD':\n",
        "          optim = torch.optim.SGD(model.parameters(), lr=0.01)  \n",
        "        if optim == 'ADAM':\n",
        "          optim = torch.optim.Adam(model.parameters(), lr=0.001, betas=(0.9, 0.999), eps=1e-08, weight_decay=0, amsgrad=False)\n",
        "\n",
        "        if optim == 'RMSProp':\n",
        "          optim = torch.optim.RMSprop(model.parameters(), lr=0.01, alpha=0.99, eps=1e-08, weight_decay=0, momentum=0, centered=False)\n",
        "\n",
        "        cuda = torch.device('cuda' if torch.cuda.is_available() else 'cpu')\n",
        "        model = model.cuda()\n",
        "        x = x.cuda()\n",
        "        y = y.cuda()\n",
        "        optim.zero_grad()\n",
        "        y_pred = model(x)\n",
        "        loss =  criterion(y_pred , y)\n",
        "        loss.backward()\n",
        "        optim.step() \n",
        "      print(e) \n",
        " \n",
        "Layers = [1,2,3,4]\n",
        "Test_accuracies = []\n",
        "Time = []\n",
        "Total_Params = []\n",
        "Model_dict = {\"Layers\": Layers,\n",
        "              \"Test_accuracies\": Test_accuracies,\n",
        "              \"Time\": Time,\n",
        "              \"Total_Params\": Total_Params}\n",
        "print(Model_dict)\n",
        "for layer in Layers:\n",
        "  toc = time()\n",
        "  model = Multi_Net(Conv_layers=layer)\n",
        "  trainer(train_loader, criterion, model, 10, 'SGD')\n",
        "  print(model)\n",
        "  model.eval()\n",
        "  train_acc = get_model_acc(model, train_loader)\n",
        "  test_acc = get_model_acc(model, test_loader)\n",
        "  tic = time()\n",
        "  Model_dict[\"Time\"].append(tic-toc)\n",
        "  Model_dict[\"Test_accuracies\"].append(test_acc)\n",
        "  Model_dict[\"Total_Params\"].append(sum(p.numel() for p in model.parameters()))\n",
        "  print(f'Training accuracy: {train_acc}, Testing accuracy: {test_acc}')\n",
        "  \n",
        "  print(Model_dict)"
      ],
      "execution_count": null,
      "outputs": [
        {
          "output_type": "stream",
          "text": [
            "{'Layers': [1, 2, 3, 4], 'Test_accuracies': [], 'Time': [], 'Total_Params': []}\n",
            "0\n",
            "1\n",
            "2\n",
            "3\n",
            "4\n",
            "5\n",
            "6\n",
            "7\n",
            "8\n",
            "9\n",
            "Multi_Net(\n",
            "  (cnn_layers): Sequential(\n",
            "    (0): Conv2d(3, 6, kernel_size=(5, 5), stride=(1, 1))\n",
            "    (1): BatchNorm2d(6, eps=1e-05, momentum=0.1, affine=True, track_running_stats=True)\n",
            "    (2): ReLU(inplace=True)\n",
            "    (3): MaxPool2d(kernel_size=4, stride=4, padding=0, dilation=1, ceil_mode=False)\n",
            "  )\n",
            "  (linear_layers): Sequential(\n",
            "    (0): Linear(in_features=294, out_features=10, bias=True)\n",
            "  )\n",
            ")\n",
            "tensor(26894, device='cuda:0')\n",
            "tensor(5325, device='cuda:0')\n",
            "Training accuracy: 53.788002014160156, Testing accuracy: 53.249996185302734\n",
            "{'Layers': [1, 2, 3, 4], 'Test_accuracies': [tensor(53.2500, device='cuda:0')], 'Time': [106.35308527946472], 'Total_Params': [3418]}\n",
            "0\n",
            "1\n",
            "2\n",
            "3\n",
            "4\n",
            "5\n",
            "6\n",
            "7\n",
            "8\n",
            "9\n",
            "Multi_Net(\n",
            "  (cnn_layers): Sequential(\n",
            "    (0): Conv2d(3, 6, kernel_size=(3, 3), stride=(1, 1))\n",
            "    (1): BatchNorm2d(6, eps=1e-05, momentum=0.1, affine=True, track_running_stats=True)\n",
            "    (2): ReLU(inplace=True)\n",
            "    (3): MaxPool2d(kernel_size=2, stride=2, padding=0, dilation=1, ceil_mode=False)\n",
            "    (4): Conv2d(6, 8, kernel_size=(4, 4), stride=(1, 1))\n",
            "    (5): BatchNorm2d(8, eps=1e-05, momentum=0.1, affine=True, track_running_stats=True)\n",
            "    (6): ReLU(inplace=True)\n",
            "    (7): MaxPool2d(kernel_size=2, stride=2, padding=0, dilation=1, ceil_mode=False)\n",
            "  )\n",
            "  (linear_layers): Sequential(\n",
            "    (0): Linear(in_features=288, out_features=10, bias=True)\n",
            "  )\n",
            ")\n",
            "tensor(29697, device='cuda:0')\n",
            "tensor(5751, device='cuda:0')\n",
            "Training accuracy: 59.39399719238281, Testing accuracy: 57.51000213623047\n",
            "{'Layers': [1, 2, 3, 4], 'Test_accuracies': [tensor(53.2500, device='cuda:0'), tensor(57.5100, device='cuda:0')], 'Time': [106.35308527946472, 108.96790385246277], 'Total_Params': [3418, 3862]}\n",
            "0\n",
            "1\n",
            "2\n",
            "3\n",
            "4\n",
            "5\n",
            "6\n",
            "7\n",
            "8\n",
            "9\n",
            "Multi_Net(\n",
            "  (cnn_layers): Sequential(\n",
            "    (0): Conv2d(3, 6, kernel_size=(3, 3), stride=(1, 1))\n",
            "    (1): BatchNorm2d(6, eps=1e-05, momentum=0.1, affine=True, track_running_stats=True)\n",
            "    (2): ReLU(inplace=True)\n",
            "    (3): MaxPool2d(kernel_size=2, stride=2, padding=0, dilation=1, ceil_mode=False)\n",
            "    (4): Conv2d(6, 8, kernel_size=(4, 4), stride=(1, 1))\n",
            "    (5): BatchNorm2d(8, eps=1e-05, momentum=0.1, affine=True, track_running_stats=True)\n",
            "    (6): ReLU(inplace=True)\n",
            "    (7): MaxPool2d(kernel_size=2, stride=1, padding=0, dilation=1, ceil_mode=False)\n",
            "    (8): Conv2d(8, 10, kernel_size=(4, 4), stride=(1, 1))\n",
            "    (9): BatchNorm2d(10, eps=1e-05, momentum=0.1, affine=True, track_running_stats=True)\n",
            "    (10): ReLU(inplace=True)\n",
            "    (11): MaxPool2d(kernel_size=2, stride=1, padding=0, dilation=1, ceil_mode=False)\n",
            "  )\n",
            "  (linear_layers): Sequential(\n",
            "    (0): Linear(in_features=490, out_features=10, bias=True)\n",
            "  )\n",
            ")\n",
            "tensor(28238, device='cuda:0')\n",
            "tensor(5514, device='cuda:0')\n",
            "Training accuracy: 56.47599792480469, Testing accuracy: 55.13999938964844\n",
            "{'Layers': [1, 2, 3, 4], 'Test_accuracies': [tensor(53.2500, device='cuda:0'), tensor(57.5100, device='cuda:0'), tensor(55.1400, device='cuda:0')], 'Time': [106.35308527946472, 108.96790385246277, 114.4445788860321], 'Total_Params': [3418, 3862, 7192]}\n",
            "0\n",
            "1\n",
            "2\n",
            "3\n",
            "4\n",
            "5\n",
            "6\n",
            "7\n",
            "8\n",
            "9\n",
            "Multi_Net(\n",
            "  (cnn_layers): Sequential(\n",
            "    (0): Conv2d(3, 6, kernel_size=(3, 3), stride=(1, 1))\n",
            "    (1): BatchNorm2d(6, eps=1e-05, momentum=0.1, affine=True, track_running_stats=True)\n",
            "    (2): ReLU(inplace=True)\n",
            "    (3): MaxPool2d(kernel_size=2, stride=2, padding=0, dilation=1, ceil_mode=False)\n",
            "    (4): Conv2d(6, 8, kernel_size=(4, 4), stride=(1, 1))\n",
            "    (5): BatchNorm2d(8, eps=1e-05, momentum=0.1, affine=True, track_running_stats=True)\n",
            "    (6): ReLU(inplace=True)\n",
            "    (7): Conv2d(8, 10, kernel_size=(3, 3), stride=(1, 1))\n",
            "    (8): BatchNorm2d(10, eps=1e-05, momentum=0.1, affine=True, track_running_stats=True)\n",
            "    (9): ReLU(inplace=True)\n",
            "    (10): MaxPool2d(kernel_size=2, stride=1, padding=0, dilation=1, ceil_mode=False)\n",
            "    (11): Conv2d(10, 12, kernel_size=(3, 3), stride=(1, 1))\n",
            "    (12): BatchNorm2d(12, eps=1e-05, momentum=0.1, affine=True, track_running_stats=True)\n",
            "    (13): ReLU(inplace=True)\n",
            "  )\n",
            "  (linear_layers): Sequential(\n",
            "    (0): Linear(in_features=588, out_features=10, bias=True)\n",
            "  )\n",
            ")\n",
            "tensor(29668, device='cuda:0')\n",
            "tensor(5741, device='cuda:0')\n",
            "Training accuracy: 59.336002349853516, Testing accuracy: 57.409996032714844\n",
            "{'Layers': [1, 2, 3, 4], 'Test_accuracies': [tensor(53.2500, device='cuda:0'), tensor(57.5100, device='cuda:0'), tensor(55.1400, device='cuda:0'), tensor(57.4100, device='cuda:0')], 'Time': [106.35308527946472, 108.96790385246277, 114.4445788860321, 118.13892436027527], 'Total_Params': [3418, 3862, 7192, 8728]}\n"
          ],
          "name": "stdout"
        }
      ]
    },
    {
      "cell_type": "code",
      "metadata": {
        "colab": {
          "base_uri": "https://localhost:8080/",
          "height": 541
        },
        "id": "dG0jQbyShd7a",
        "outputId": "e61ad590-82f8-4db7-cae9-9a16b1ae5ccc"
      },
      "source": [
        "\n",
        "Model_dict[\"Layers\"] = [1,2,3,4]\n",
        "plot1 = plt.figure(1)\n",
        "plt.plot(Model_dict[\"Layers\"], Model_dict[\"Test_accuracies\"])\n",
        "plt.xlabel(\"Layers\")\n",
        "plt.ylabel(\"Test Accuracy\")\n",
        "\n",
        "plot2 = plt.figure(2)\n",
        "plt.plot(Model_dict[\"Layers\"],  Model_dict[\"Time\"])\n",
        "plt.xlabel(\"Layers\")\n",
        "plt.ylabel(\"Time in Seconds\")\n",
        "\n",
        "plt.show()"
      ],
      "execution_count": null,
      "outputs": [
        {
          "output_type": "display_data",
          "data": {
            "image/png": "[encoded data removed]",
            "text/plain": [
              "<Figure size 432x288 with 1 Axes>"
            ]
          },
          "metadata": {
            "tags": [],
            "needs_background": "light"
          }
        },
        {
          "output_type": "display_data",
          "data": {
            "image/png": "[encoded data removed]",
            "text/plain": [
              "<Figure size 432x288 with 1 Axes>"
            ]
          },
          "metadata": {
            "tags": [],
            "needs_background": "light"
          }
        }
      ]
    },
    {
      "cell_type": "code",
      "metadata": {
        "colab": {
          "base_uri": "https://localhost:8080/"
        },
        "id": "03hu-P5sByZm",
        "outputId": "76053950-bc7d-43be-e167-a2c2715c29d4"
      },
      "source": [
        "print(Model_dict)"
      ],
      "execution_count": null,
      "outputs": [
        {
          "output_type": "stream",
          "text": [
            "{'Layers': [1, 2, 3, 4], 'Test_accuracies': [tensor(53.2500, device='cuda:0'), tensor(57.5100, device='cuda:0'), tensor(55.1400, device='cuda:0'), tensor(57.4100, device='cuda:0')], 'Time': [106.35308527946472, 108.96790385246277, 114.4445788860321, 118.13892436027527], 'Total_Params': [3418, 3862, 7192, 8728]}\n"
          ],
          "name": "stdout"
        }
      ]
    },
    {
      "cell_type": "markdown",
      "metadata": {
        "id": "lGC-jTSpy1HL"
      },
      "source": [
        "\n",
        "\n",
        "My observations are as follows:\n",
        "\n",
        "Computation time increased with the number of layers, this is because of increased number of parameters to train and computation for backpropagation to update the same.\n",
        "\n",
        "Number of convolution layers doesn't directly correspond to increased accuracy, a lot is dependent on how the inner configuration is set (i.e., kernel size, choice of transfer function, number of maxpooling layers, etc).\n",
        "\n",
        "Sometimes, maxpooling may impose a decline in accuracy when it is applied too often, information is lost in doing so as it takes only the highest off the kernel size. Additionally, batchnorm should be incorporated and dropouts as well, because the chances of overfitting also rises with that of parameters."
      ]
    },
    {
      "cell_type": "code",
      "metadata": {
        "id": "CB11gRtiMn73",
        "colab": {
          "base_uri": "https://localhost:8080/"
        },
        "outputId": "78576fe1-8fab-496a-eac3-44651aeb4b83"
      },
      "source": [
        "# OPTIMIZER experiments\n",
        "\n",
        "\n",
        "Layers = [1,2,3,4]\n",
        "Test_accuracies = []\n",
        "Time = []\n",
        "Total_Params = []\n",
        "Model_dict = {\"Layers\": Layers,\n",
        "              \"Test_accuracies\": Test_accuracies,\n",
        "              \"Time\": Time,\n",
        "              \"Total_Params\": Total_Params}\n",
        "print(Model_dict)\n",
        "optim_set = [ 'RMSProp', 'ADAM']\n",
        "for optim in optim_set:\n",
        "  print(\"the optimizer is\", optim)\n",
        "  for layer in Layers:\n",
        "    toc = time()\n",
        "    model = Multi_Net(Conv_layers=layer, out_channels=[8,16])\n",
        "    trainer(train_loader, criterion, model, 10, optim)\n",
        "    print(model)\n",
        "    model.eval()\n",
        "    train_acc = get_model_acc(model, train_loader)\n",
        "    test_acc = get_model_acc(model, test_loader)\n",
        "    tic = time()\n",
        "    Model_dict[\"Time\"].append(tic-toc)\n",
        "    Model_dict[\"Test_accuracies\"].append(test_acc)\n",
        "    Model_dict[\"Total_Params\"].append(sum(p.numel() for p in model.parameters()))\n",
        "    print(f'Training accuracy: {train_acc}, Testing accuracy: {test_acc}')\n",
        "  \n",
        "    print(Model_dict)\n",
        "\n"
      ],
      "execution_count": null,
      "outputs": [
        {
          "output_type": "stream",
          "text": [
            "{'Layers': [1, 2, 3, 4], 'Test_accuracies': [], 'Time': [], 'Total_Params': []}\n",
            "the optimizer is RMSProp\n",
            "0\n",
            "1\n",
            "2\n",
            "3\n",
            "4\n",
            "5\n",
            "6\n",
            "7\n",
            "8\n",
            "9\n",
            "Multi_Net(\n",
            "  (cnn_layers): Sequential(\n",
            "    (0): Conv2d(3, 6, kernel_size=(5, 5), stride=(1, 1))\n",
            "    (1): BatchNorm2d(6, eps=1e-05, momentum=0.1, affine=True, track_running_stats=True)\n",
            "    (2): ReLU(inplace=True)\n",
            "    (3): MaxPool2d(kernel_size=4, stride=4, padding=0, dilation=1, ceil_mode=False)\n",
            "  )\n",
            "  (linear_layers): Sequential(\n",
            "    (0): Linear(in_features=294, out_features=10, bias=True)\n",
            "  )\n",
            ")\n",
            "tensor(26211, device='cuda:0')\n",
            "tensor(5101, device='cuda:0')\n",
            "Training accuracy: 52.4219970703125, Testing accuracy: 51.01000213623047\n",
            "{'Layers': [1, 2, 3, 4], 'Test_accuracies': [tensor(51.0100, device='cuda:0')], 'Time': [105.57419276237488], 'Total_Params': [3418]}\n",
            "0\n",
            "1\n",
            "2\n",
            "3\n",
            "4\n",
            "5\n",
            "6\n",
            "7\n",
            "8\n",
            "9\n",
            "Multi_Net(\n",
            "  (cnn_layers): Sequential(\n",
            "    (0): Conv2d(3, 6, kernel_size=(3, 3), stride=(1, 1))\n",
            "    (1): BatchNorm2d(6, eps=1e-05, momentum=0.1, affine=True, track_running_stats=True)\n",
            "    (2): ReLU(inplace=True)\n",
            "    (3): MaxPool2d(kernel_size=2, stride=2, padding=0, dilation=1, ceil_mode=False)\n",
            "    (4): Conv2d(6, 8, kernel_size=(4, 4), stride=(1, 1))\n",
            "    (5): BatchNorm2d(8, eps=1e-05, momentum=0.1, affine=True, track_running_stats=True)\n",
            "    (6): ReLU(inplace=True)\n",
            "    (7): MaxPool2d(kernel_size=2, stride=2, padding=0, dilation=1, ceil_mode=False)\n",
            "  )\n",
            "  (linear_layers): Sequential(\n",
            "    (0): Linear(in_features=288, out_features=10, bias=True)\n",
            "  )\n",
            ")\n",
            "tensor(28296, device='cuda:0')\n",
            "tensor(5451, device='cuda:0')\n",
            "Training accuracy: 56.59199905395508, Testing accuracy: 54.5099983215332\n",
            "{'Layers': [1, 2, 3, 4], 'Test_accuracies': [tensor(51.0100, device='cuda:0'), tensor(54.5100, device='cuda:0')], 'Time': [105.57419276237488, 111.69931983947754], 'Total_Params': [3418, 3862]}\n",
            "0\n",
            "1\n",
            "2\n",
            "3\n",
            "4\n",
            "5\n",
            "6\n",
            "7\n",
            "8\n",
            "9\n",
            "Multi_Net(\n",
            "  (cnn_layers): Sequential(\n",
            "    (0): Conv2d(3, 6, kernel_size=(3, 3), stride=(1, 1))\n",
            "    (1): BatchNorm2d(6, eps=1e-05, momentum=0.1, affine=True, track_running_stats=True)\n",
            "    (2): ReLU(inplace=True)\n",
            "    (3): MaxPool2d(kernel_size=2, stride=2, padding=0, dilation=1, ceil_mode=False)\n",
            "    (4): Conv2d(6, 8, kernel_size=(4, 4), stride=(1, 1))\n",
            "    (5): BatchNorm2d(8, eps=1e-05, momentum=0.1, affine=True, track_running_stats=True)\n",
            "    (6): ReLU(inplace=True)\n",
            "    (7): MaxPool2d(kernel_size=2, stride=1, padding=0, dilation=1, ceil_mode=False)\n",
            "    (8): Conv2d(8, 10, kernel_size=(4, 4), stride=(1, 1))\n",
            "    (9): BatchNorm2d(10, eps=1e-05, momentum=0.1, affine=True, track_running_stats=True)\n",
            "    (10): ReLU(inplace=True)\n",
            "    (11): MaxPool2d(kernel_size=2, stride=1, padding=0, dilation=1, ceil_mode=False)\n",
            "  )\n",
            "  (linear_layers): Sequential(\n",
            "    (0): Linear(in_features=490, out_features=10, bias=True)\n",
            "  )\n",
            ")\n",
            "tensor(27871, device='cuda:0')\n",
            "tensor(5412, device='cuda:0')\n",
            "Training accuracy: 55.742000579833984, Testing accuracy: 54.119998931884766\n",
            "{'Layers': [1, 2, 3, 4], 'Test_accuracies': [tensor(51.0100, device='cuda:0'), tensor(54.5100, device='cuda:0'), tensor(54.1200, device='cuda:0')], 'Time': [105.57419276237488, 111.69931983947754, 116.06371569633484], 'Total_Params': [3418, 3862, 7192]}\n",
            "0\n",
            "1\n",
            "2\n",
            "3\n",
            "4\n",
            "5\n",
            "6\n",
            "7\n",
            "8\n",
            "9\n",
            "Multi_Net(\n",
            "  (cnn_layers): Sequential(\n",
            "    (0): Conv2d(3, 6, kernel_size=(3, 3), stride=(1, 1))\n",
            "    (1): BatchNorm2d(6, eps=1e-05, momentum=0.1, affine=True, track_running_stats=True)\n",
            "    (2): ReLU(inplace=True)\n",
            "    (3): MaxPool2d(kernel_size=2, stride=2, padding=0, dilation=1, ceil_mode=False)\n",
            "    (4): Conv2d(6, 8, kernel_size=(4, 4), stride=(1, 1))\n",
            "    (5): BatchNorm2d(8, eps=1e-05, momentum=0.1, affine=True, track_running_stats=True)\n",
            "    (6): ReLU(inplace=True)\n",
            "    (7): Conv2d(8, 10, kernel_size=(3, 3), stride=(1, 1))\n",
            "    (8): BatchNorm2d(10, eps=1e-05, momentum=0.1, affine=True, track_running_stats=True)\n",
            "    (9): ReLU(inplace=True)\n",
            "    (10): MaxPool2d(kernel_size=2, stride=1, padding=0, dilation=1, ceil_mode=False)\n",
            "    (11): Conv2d(10, 12, kernel_size=(3, 3), stride=(1, 1))\n",
            "    (12): BatchNorm2d(12, eps=1e-05, momentum=0.1, affine=True, track_running_stats=True)\n",
            "    (13): ReLU(inplace=True)\n",
            "  )\n",
            "  (linear_layers): Sequential(\n",
            "    (0): Linear(in_features=588, out_features=10, bias=True)\n",
            "  )\n",
            ")\n",
            "tensor(28124, device='cuda:0')\n",
            "tensor(5388, device='cuda:0')\n",
            "Training accuracy: 56.24799728393555, Testing accuracy: 53.880001068115234\n",
            "{'Layers': [1, 2, 3, 4], 'Test_accuracies': [tensor(51.0100, device='cuda:0'), tensor(54.5100, device='cuda:0'), tensor(54.1200, device='cuda:0'), tensor(53.8800, device='cuda:0')], 'Time': [105.57419276237488, 111.69931983947754, 116.06371569633484, 119.67364692687988], 'Total_Params': [3418, 3862, 7192, 8728]}\n",
            "the optimizer is ADAM\n",
            "0\n",
            "1\n",
            "2\n",
            "3\n",
            "4\n",
            "5\n",
            "6\n",
            "7\n",
            "8\n",
            "9\n",
            "Multi_Net(\n",
            "  (cnn_layers): Sequential(\n",
            "    (0): Conv2d(3, 6, kernel_size=(5, 5), stride=(1, 1))\n",
            "    (1): BatchNorm2d(6, eps=1e-05, momentum=0.1, affine=True, track_running_stats=True)\n",
            "    (2): ReLU(inplace=True)\n",
            "    (3): MaxPool2d(kernel_size=4, stride=4, padding=0, dilation=1, ceil_mode=False)\n",
            "  )\n",
            "  (linear_layers): Sequential(\n",
            "    (0): Linear(in_features=294, out_features=10, bias=True)\n",
            "  )\n",
            ")\n",
            "tensor(28945, device='cuda:0')\n",
            "tensor(5650, device='cuda:0')\n",
            "Training accuracy: 57.88999938964844, Testing accuracy: 56.5\n",
            "{'Layers': [1, 2, 3, 4], 'Test_accuracies': [tensor(51.0100, device='cuda:0'), tensor(54.5100, device='cuda:0'), tensor(54.1200, device='cuda:0'), tensor(53.8800, device='cuda:0'), tensor(56.5000, device='cuda:0')], 'Time': [105.57419276237488, 111.69931983947754, 116.06371569633484, 119.67364692687988, 105.70731449127197], 'Total_Params': [3418, 3862, 7192, 8728, 3418]}\n",
            "0\n",
            "1\n",
            "2\n",
            "3\n",
            "4\n",
            "5\n",
            "6\n",
            "7\n",
            "8\n",
            "9\n",
            "Multi_Net(\n",
            "  (cnn_layers): Sequential(\n",
            "    (0): Conv2d(3, 6, kernel_size=(3, 3), stride=(1, 1))\n",
            "    (1): BatchNorm2d(6, eps=1e-05, momentum=0.1, affine=True, track_running_stats=True)\n",
            "    (2): ReLU(inplace=True)\n",
            "    (3): MaxPool2d(kernel_size=2, stride=2, padding=0, dilation=1, ceil_mode=False)\n",
            "    (4): Conv2d(6, 8, kernel_size=(4, 4), stride=(1, 1))\n",
            "    (5): BatchNorm2d(8, eps=1e-05, momentum=0.1, affine=True, track_running_stats=True)\n",
            "    (6): ReLU(inplace=True)\n",
            "    (7): MaxPool2d(kernel_size=2, stride=2, padding=0, dilation=1, ceil_mode=False)\n",
            "  )\n",
            "  (linear_layers): Sequential(\n",
            "    (0): Linear(in_features=288, out_features=10, bias=True)\n",
            "  )\n",
            ")\n",
            "tensor(31205, device='cuda:0')\n",
            "tensor(6024, device='cuda:0')\n",
            "Training accuracy: 62.409996032714844, Testing accuracy: 60.2400016784668\n",
            "{'Layers': [1, 2, 3, 4], 'Test_accuracies': [tensor(51.0100, device='cuda:0'), tensor(54.5100, device='cuda:0'), tensor(54.1200, device='cuda:0'), tensor(53.8800, device='cuda:0'), tensor(56.5000, device='cuda:0'), tensor(60.2400, device='cuda:0')], 'Time': [105.57419276237488, 111.69931983947754, 116.06371569633484, 119.67364692687988, 105.70731449127197, 110.4652647972107], 'Total_Params': [3418, 3862, 7192, 8728, 3418, 3862]}\n",
            "0\n",
            "1\n",
            "2\n",
            "3\n",
            "4\n",
            "5\n",
            "6\n",
            "7\n",
            "8\n",
            "9\n",
            "Multi_Net(\n",
            "  (cnn_layers): Sequential(\n",
            "    (0): Conv2d(3, 6, kernel_size=(3, 3), stride=(1, 1))\n",
            "    (1): BatchNorm2d(6, eps=1e-05, momentum=0.1, affine=True, track_running_stats=True)\n",
            "    (2): ReLU(inplace=True)\n",
            "    (3): MaxPool2d(kernel_size=2, stride=2, padding=0, dilation=1, ceil_mode=False)\n",
            "    (4): Conv2d(6, 8, kernel_size=(4, 4), stride=(1, 1))\n",
            "    (5): BatchNorm2d(8, eps=1e-05, momentum=0.1, affine=True, track_running_stats=True)\n",
            "    (6): ReLU(inplace=True)\n",
            "    (7): MaxPool2d(kernel_size=2, stride=1, padding=0, dilation=1, ceil_mode=False)\n",
            "    (8): Conv2d(8, 10, kernel_size=(4, 4), stride=(1, 1))\n",
            "    (9): BatchNorm2d(10, eps=1e-05, momentum=0.1, affine=True, track_running_stats=True)\n",
            "    (10): ReLU(inplace=True)\n",
            "    (11): MaxPool2d(kernel_size=2, stride=1, padding=0, dilation=1, ceil_mode=False)\n",
            "  )\n",
            "  (linear_layers): Sequential(\n",
            "    (0): Linear(in_features=490, out_features=10, bias=True)\n",
            "  )\n",
            ")\n",
            "tensor(30731, device='cuda:0')\n",
            "tensor(5904, device='cuda:0')\n",
            "Training accuracy: 61.461997985839844, Testing accuracy: 59.03999710083008\n",
            "{'Layers': [1, 2, 3, 4], 'Test_accuracies': [tensor(51.0100, device='cuda:0'), tensor(54.5100, device='cuda:0'), tensor(54.1200, device='cuda:0'), tensor(53.8800, device='cuda:0'), tensor(56.5000, device='cuda:0'), tensor(60.2400, device='cuda:0'), tensor(59.0400, device='cuda:0')], 'Time': [105.57419276237488, 111.69931983947754, 116.06371569633484, 119.67364692687988, 105.70731449127197, 110.4652647972107, 119.66083097457886], 'Total_Params': [3418, 3862, 7192, 8728, 3418, 3862, 7192]}\n",
            "0\n",
            "1\n",
            "2\n",
            "3\n",
            "4\n",
            "5\n",
            "6\n",
            "7\n",
            "8\n",
            "9\n",
            "Multi_Net(\n",
            "  (cnn_layers): Sequential(\n",
            "    (0): Conv2d(3, 6, kernel_size=(3, 3), stride=(1, 1))\n",
            "    (1): BatchNorm2d(6, eps=1e-05, momentum=0.1, affine=True, track_running_stats=True)\n",
            "    (2): ReLU(inplace=True)\n",
            "    (3): MaxPool2d(kernel_size=2, stride=2, padding=0, dilation=1, ceil_mode=False)\n",
            "    (4): Conv2d(6, 8, kernel_size=(4, 4), stride=(1, 1))\n",
            "    (5): BatchNorm2d(8, eps=1e-05, momentum=0.1, affine=True, track_running_stats=True)\n",
            "    (6): ReLU(inplace=True)\n",
            "    (7): Conv2d(8, 10, kernel_size=(3, 3), stride=(1, 1))\n",
            "    (8): BatchNorm2d(10, eps=1e-05, momentum=0.1, affine=True, track_running_stats=True)\n",
            "    (9): ReLU(inplace=True)\n",
            "    (10): MaxPool2d(kernel_size=2, stride=1, padding=0, dilation=1, ceil_mode=False)\n",
            "    (11): Conv2d(10, 12, kernel_size=(3, 3), stride=(1, 1))\n",
            "    (12): BatchNorm2d(12, eps=1e-05, momentum=0.1, affine=True, track_running_stats=True)\n",
            "    (13): ReLU(inplace=True)\n",
            "  )\n",
            "  (linear_layers): Sequential(\n",
            "    (0): Linear(in_features=588, out_features=10, bias=True)\n",
            "  )\n",
            ")\n",
            "tensor(31406, device='cuda:0')\n",
            "tensor(5868, device='cuda:0')\n",
            "Training accuracy: 62.8120002746582, Testing accuracy: 58.679996490478516\n",
            "{'Layers': [1, 2, 3, 4], 'Test_accuracies': [tensor(51.0100, device='cuda:0'), tensor(54.5100, device='cuda:0'), tensor(54.1200, device='cuda:0'), tensor(53.8800, device='cuda:0'), tensor(56.5000, device='cuda:0'), tensor(60.2400, device='cuda:0'), tensor(59.0400, device='cuda:0'), tensor(58.6800, device='cuda:0')], 'Time': [105.57419276237488, 111.69931983947754, 116.06371569633484, 119.67364692687988, 105.70731449127197, 110.4652647972107, 119.66083097457886, 123.46163964271545], 'Total_Params': [3418, 3862, 7192, 8728, 3418, 3862, 7192, 8728]}\n"
          ],
          "name": "stdout"
        }
      ]
    },
    {
      "cell_type": "code",
      "metadata": {
        "colab": {
          "base_uri": "https://localhost:8080/",
          "height": 1000
        },
        "id": "OkU042LN4Td5",
        "outputId": "54e1cee7-b648-4961-99a5-58709eebcf12"
      },
      "source": [
        "Model_dict[\"Layers\"] = [1,2,3,4]\n",
        "plot1 = plt.figure(1)\n",
        "plt.plot(Model_dict[\"Layers\"], Model_dict[\"Test_accuracies\"][:4])\n",
        "plt.xlabel(\"Layers\")\n",
        "plt.ylabel(\"Test Accuracy for RMSProp\")\n",
        "\n",
        "plot2 = plt.figure(2)\n",
        "plt.plot(Model_dict[\"Layers\"],  Model_dict[\"Time\"][:4])\n",
        "plt.xlabel(\"Layers\")\n",
        "plt.ylabel(\"Time in Seconds for RMSProp\")\n",
        "\n",
        "plot1 = plt.figure(3)\n",
        "plt.plot(Model_dict[\"Layers\"], Model_dict[\"Test_accuracies\"][4:])\n",
        "plt.xlabel(\"Layers\")\n",
        "plt.ylabel(\"Test Accuracy for ADAM\")\n",
        "\n",
        "plot2 = plt.figure(4)\n",
        "plt.plot(Model_dict[\"Layers\"],  Model_dict[\"Time\"][4:])\n",
        "plt.xlabel(\"Layers\")\n",
        "plt.ylabel(\"Time in Seconds for ADAM\")\n",
        "\n",
        "plt.show()"
      ],
      "execution_count": null,
      "outputs": [
        {
          "output_type": "display_data",
          "data": {
            "image/png": "[encoded data removed]",
            "text/plain": [
              "<Figure size 432x288 with 1 Axes>"
            ]
          },
          "metadata": {
            "tags": [],
            "needs_background": "light"
          }
        },
        {
          "output_type": "display_data",
          "data": {
            "image/png": "[encoded data removed]",
            "text/plain": [
              "<Figure size 432x288 with 1 Axes>"
            ]
          },
          "metadata": {
            "tags": [],
            "needs_background": "light"
          }
        },
        {
          "output_type": "display_data",
          "data": {
            "image/png": "[encoded data removed]",
            "text/plain": [
              "<Figure size 432x288 with 1 Axes>"
            ]
          },
          "metadata": {
            "tags": [],
            "needs_background": "light"
          }
        },
        {
          "output_type": "display_data",
          "data": {
            "image/png": "[encoded data removed]",
            "text/plain": [
              "<Figure size 432x288 with 1 Axes>"
            ]
          },
          "metadata": {
            "tags": [],
            "needs_background": "light"
          }
        }
      ]
    },
    {
      "cell_type": "markdown",
      "metadata": {
        "id": "PddDRSP9y1HV"
      },
      "source": [
        "\n",
        "Adam Optimizer is better than RMSProp and SGD. Here, for constant epochs=10 for all optimizers, ADAM gave the highest accuracy > 60%. Additionally, ADAM took slightly more time that RMSProp and SGD, but this is because we had the same epochs for all. Had we set a convergence criterion, ADAM would have converged first."
      ]
    },
    {
      "cell_type": "code",
      "metadata": {
        "id": "zsqeD0g8Mn7-",
        "colab": {
          "base_uri": "https://localhost:8080/"
        },
        "outputId": "e782eaad-e472-4474-fe14-fdbfecd59e8a"
      },
      "source": [
        "# Further Improvements\n",
        " \n",
        "from torch.nn import Linear, ReLU, CrossEntropyLoss, Sequential, Conv2d, MaxPool2d, Module, Softmax, BatchNorm2d, Dropout, SELU\n",
        "from time import time\n",
        "class Accurate_Net(nn.Module):   \n",
        "    def __init__(self, Conv_layers=1, out_channels=[]):\n",
        "        super(Accurate_Net, self).__init__()\n",
        "\n",
        "        self.cnn_layers = Sequential(\n",
        "          Conv2d(3, 6, kernel_size=5),\n",
        "          BatchNorm2d(6),\n",
        "          ReLU(inplace=False),\n",
        "          nn.Dropout(0.2),\n",
        "          #MaxPool2d(kernel_size=2, stride=2),\n",
        "\n",
        "          Conv2d(6, 12, kernel_size=5),\n",
        "          BatchNorm2d(12),\n",
        "          ReLU(inplace=False),\n",
        "          MaxPool2d(kernel_size=2, stride=2),\n",
        "          nn.Dropout(0.2),\n",
        "\n",
        "          Conv2d(12, 24, kernel_size=4),\n",
        "          BatchNorm2d(24),\n",
        "          ReLU(inplace=False),\n",
        "          #MaxPool2d(kernel_size=2, stride=2),\n",
        "          nn.Dropout(0.2),\n",
        "\n",
        "          Conv2d(24, 48, kernel_size=3),\n",
        "          BatchNorm2d(48),\n",
        "          ReLU(inplace=False),\n",
        "          nn.Dropout(0.2),\n",
        "          \n",
        "          Conv2d(48, 96, kernel_size=3),\n",
        "          BatchNorm2d(96),\n",
        "          ReLU(inplace=False),\n",
        "          nn.Dropout(0.2),) \n",
        "        self.linear_layers = Sequential(\n",
        "          Linear(96 * 5 * 5, 200),\n",
        "          ReLU(inplace=False),\n",
        "          Linear(200, 10),\n",
        "          )\n",
        "        \n",
        "\n",
        "    # Defining the forward pass    \n",
        "    def forward(self, x):\n",
        "        cuda = torch.device('cuda' if torch.cuda.is_available() else 'cpu')\n",
        "         \n",
        "        x = x.cuda()\n",
        "        x = self.cnn_layers(x)\n",
        "        x = x.view(x.size(0), -1)\n",
        "        x = self.linear_layers(x)\n",
        "        return x\n",
        "\n",
        "\n",
        "criterion = nn.CrossEntropyLoss()\n",
        "\n",
        "def trainer(train_loader, criterion, model, epoch, optim):\n",
        "  # train your model\n",
        "  \n",
        "  for e in range(epoch):\n",
        "      for x, y in train_loader:\n",
        "        if optim == 'SGD':\n",
        "          optim = torch.optim.SGD(model.parameters(), lr=0.01)  \n",
        "        if optim == 'ADAM':\n",
        "          optim = torch.optim.Adam(model.parameters(), lr=0.001, betas=(0.9, 0.999), eps=1e-08, weight_decay=0, amsgrad=False)\n",
        "\n",
        "        if optim == 'RMSProp':\n",
        "          optim = torch.optim.RMSprop(model.parameters(), lr=0.01, alpha=0.99, eps=1e-08, weight_decay=0, momentum=0, centered=False)\n",
        "\n",
        "        cuda = torch.device('cuda' if torch.cuda.is_available() else 'cpu')\n",
        "        model = model.cuda()\n",
        "        x = x.cuda()\n",
        "        y = y.cuda()\n",
        "        optim.zero_grad()\n",
        "        y_pred = model(x)\n",
        "        loss =  criterion(y_pred , y)\n",
        "        loss.backward()\n",
        "        optim.step() \n",
        "      #print(e) \n",
        "\n",
        "model = Accurate_Net(Conv_layers=5)\n",
        "trainer(train_loader, criterion, model, 15, 'ADAM')\n",
        "print(model)\n",
        "model.eval()\n",
        "train_acc = get_model_acc(model, train_loader)\n",
        "test_acc = get_model_acc(model, test_loader)\n",
        "print(f'Training accuracy: {train_acc}, Testing accuracy: {test_acc}')\n",
        "\n"
      ],
      "execution_count": null,
      "outputs": [
        {
          "output_type": "stream",
          "text": [
            "0\n",
            "1\n",
            "2\n",
            "3\n",
            "4\n",
            "5\n",
            "6\n",
            "7\n",
            "8\n",
            "9\n",
            "10\n",
            "11\n",
            "12\n",
            "13\n",
            "14\n",
            "Accurate_Net(\n",
            "  (cnn_layers): Sequential(\n",
            "    (0): Conv2d(3, 6, kernel_size=(5, 5), stride=(1, 1))\n",
            "    (1): BatchNorm2d(6, eps=1e-05, momentum=0.1, affine=True, track_running_stats=True)\n",
            "    (2): ReLU()\n",
            "    (3): Dropout(p=0.2, inplace=False)\n",
            "    (4): Conv2d(6, 12, kernel_size=(5, 5), stride=(1, 1))\n",
            "    (5): BatchNorm2d(12, eps=1e-05, momentum=0.1, affine=True, track_running_stats=True)\n",
            "    (6): ReLU()\n",
            "    (7): MaxPool2d(kernel_size=2, stride=2, padding=0, dilation=1, ceil_mode=False)\n",
            "    (8): Dropout(p=0.2, inplace=False)\n",
            "    (9): Conv2d(12, 24, kernel_size=(4, 4), stride=(1, 1))\n",
            "    (10): BatchNorm2d(24, eps=1e-05, momentum=0.1, affine=True, track_running_stats=True)\n",
            "    (11): ReLU()\n",
            "    (12): Dropout(p=0.2, inplace=False)\n",
            "    (13): Conv2d(24, 48, kernel_size=(3, 3), stride=(1, 1))\n",
            "    (14): BatchNorm2d(48, eps=1e-05, momentum=0.1, affine=True, track_running_stats=True)\n",
            "    (15): ReLU()\n",
            "    (16): Dropout(p=0.2, inplace=False)\n",
            "    (17): Conv2d(48, 96, kernel_size=(3, 3), stride=(1, 1))\n",
            "    (18): BatchNorm2d(96, eps=1e-05, momentum=0.1, affine=True, track_running_stats=True)\n",
            "    (19): ReLU()\n",
            "    (20): Dropout(p=0.2, inplace=False)\n",
            "  )\n",
            "  (linear_layers): Sequential(\n",
            "    (0): Linear(in_features=2400, out_features=200, bias=True)\n",
            "    (1): ReLU()\n",
            "    (2): Linear(in_features=200, out_features=10, bias=True)\n",
            "  )\n",
            ")\n",
            "tensor(37591, device='cuda:0')\n",
            "tensor(7048, device='cuda:0')\n",
            "Training accuracy: 75.18199920654297, Testing accuracy: 70.4800033569336\n"
          ],
          "name": "stdout"
        }
      ]
    },
    {
      "cell_type": "code",
      "metadata": {
        "id": "bXkwpCOm7sXQ"
      },
      "source": [
        ""
      ],
      "execution_count": null,
      "outputs": []
    }
  ]
}